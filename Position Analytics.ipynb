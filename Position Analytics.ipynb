{
 "cells": [
  {
   "cell_type": "code",
   "execution_count": 1,
   "metadata": {},
   "outputs": [],
   "source": [
    "import pandas as pd\n",
    "import numpy as np\n",
    "import matplotlib.pyplot as plt"
   ]
  },
  {
   "cell_type": "code",
   "execution_count": 2,
   "metadata": {},
   "outputs": [],
   "source": [
    "df = pd.read_csv(r\"C:\\Users\\olive\\Documents\\GitHub\\Fantasy-Hockey\\2018 Player Rankings.csv\", encoding='latin1')\n",
    "df.set_index('Ranking', drop=True, inplace=True)\n",
    "df.loc[:, 'Position'] = [x.split()[-1].split(',') for x in df.loc[:, 'Player Name']]\n",
    "df.loc[:, 'Team'] = [x.split()[2] for x in df.loc[:, 'Player Name']]\n",
    "df.loc[:, 'Player Name'] = [\" \".join(x.split()[:2]) for x in df.loc[:, 'Player Name']]"
   ]
  },
  {
   "cell_type": "code",
   "execution_count": 3,
   "metadata": {},
   "outputs": [],
   "source": [
    "requirements = {'C':2,\n",
    "               'LW':2,\n",
    "               'RW':2,\n",
    "               'D':4,\n",
    "               'G':2}"
   ]
  },
  {
   "cell_type": "code",
   "execution_count": 4,
   "metadata": {},
   "outputs": [],
   "source": [
    "NUM_TEAMS = 14"
   ]
  },
  {
   "cell_type": "code",
   "execution_count": 5,
   "metadata": {},
   "outputs": [],
   "source": [
    "counter = 0\n",
    "current_round = 1\n",
    "for index,row in df.iterrows():\n",
    "    counter += 1\n",
    "    df.loc[index, 'Round'] = int(current_round)\n",
    "    if counter%NUM_TEAMS==0:\n",
    "        current_round += 1"
   ]
  },
  {
   "cell_type": "code",
   "execution_count": 6,
   "metadata": {},
   "outputs": [],
   "source": [
    "def most_common(lst):\n",
    "    return max(set(lst), key=lst.count)"
   ]
  },
  {
   "cell_type": "code",
   "execution_count": 7,
   "metadata": {},
   "outputs": [],
   "source": [
    "def custom_count(l, entry):\n",
    "    counter = 0\n",
    "    for i in l:\n",
    "        if entry in i:\n",
    "            counter+=1\n",
    "    return counter"
   ]
  },
  {
   "cell_type": "code",
   "execution_count": 8,
   "metadata": {},
   "outputs": [],
   "source": [
    "data = []\n",
    "for i in np.unique(np.array(df.loc[:, 'Round'])):\n",
    "    position_count = dict()\n",
    "    this_round = i\n",
    "    positions = df.loc[df['Round']==i, 'Position'].tolist()\n",
    "    for j in requirements.keys():\n",
    "        position_count[j] = custom_count(positions, j)\n",
    "    data.append({\n",
    "        'Round':int(i),\n",
    "        **position_count\n",
    "    })\n",
    "rounds = pd.DataFrame(data)\n",
    "rounds.set_index('Round', drop=True, inplace=True)"
   ]
  },
  {
   "cell_type": "code",
   "execution_count": 10,
   "metadata": {},
   "outputs": [
    {
     "name": "stdout",
     "output_type": "stream",
     "text": [
      "C [7, 4, 5, 5, 3, 5, 2, 0, 2, 4, 5, 5, 6, 2, 0]\n",
      "D [0, 2, 2, 2, 4, 3, 5, 10, 4, 6, 4, 4, 3, 3, 2]\n",
      "G [1, 4, 4, 4, 2, 2, 0, 2, 3, 2, 1, 1, 0, 2, 0]\n",
      "LW [2, 5, 1, 2, 4, 5, 6, 1, 3, 2, 4, 1, 2, 2, 1]\n",
      "RW [4, 2, 2, 4, 5, 4, 2, 1, 6, 2, 3, 5, 7, 6, 2]\n"
     ]
    },
    {
     "data": {
      "text/plain": [
       "<matplotlib.legend.Legend at 0x1ccd6f3ad30>"
      ]
     },
     "execution_count": 10,
     "metadata": {},
     "output_type": "execute_result"
    },
    {
     "data": {
      "image/png": "[encoded data removed]",
      "text/plain": [
       "<Figure size 432x288 with 1 Axes>"
      ]
     },
     "metadata": {},
     "output_type": "display_data"
    }
   ],
   "source": [
    "N = len(rounds)\n",
    "sum_bottom = np.zeros(N)\n",
    "\n",
    "for i in rounds.columns:\n",
    "    pos = []\n",
    "    for index,row in rounds.iterrows():\n",
    "        pos.append(row[i])\n",
    "    print(i, pos)\n",
    "    ind = np.arange(1,N+1)    # the x locations for the groups\n",
    "    width = 0.35       # the width of the bars: can also be len(x) sequence\n",
    "\n",
    "    plt.bar(ind, pos, bottom=sum_bottom)\n",
    "    \n",
    "    for index,row in rounds.iterrows():\n",
    "        sum_bottom[index-1]=sum_bottom[index-1]+row[i]\n",
    "        \n",
    "plt.legend(rounds.columns)"
   ]
  },
  {
   "cell_type": "code",
   "execution_count": null,
   "metadata": {},
   "outputs": [],
   "source": []
  }
 ],
 "metadata": {
  "kernelspec": {
   "display_name": "Python 3",
   "language": "python",
   "name": "python3"
  },
  "language_info": {
   "codemirror_mode": {
    "name": "ipython",
    "version": 3
   },
   "file_extension": ".py",
   "mimetype": "text/x-python",
   "name": "python",
   "nbconvert_exporter": "python",
   "pygments_lexer": "ipython3",
   "version": "3.6.5"
  }
 },
 "nbformat": 4,
 "nbformat_minor": 2
}
