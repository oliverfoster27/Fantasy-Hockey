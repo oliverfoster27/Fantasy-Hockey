{
 "cells": [
  {
   "cell_type": "code",
   "execution_count": 1,
   "metadata": {},
   "outputs": [],
   "source": [
    "import pandas as pd\n",
    "import numpy as np\n",
    "import matplotlib.pyplot as plt"
   ]
  },
  {
   "cell_type": "code",
   "execution_count": 2,
   "metadata": {},
   "outputs": [],
   "source": [
    "df = pd.read_csv(r\"C:\\Users\\olive\\Documents\\GitHub\\Fantasy-Hockey\\2018 Player Rankings.csv\", encoding='latin1')\n",
    "df.set_index('Ranking', drop=True, inplace=True)\n",
    "df.loc[:, 'Position'] = [x.split()[-1].split(',') for x in df.loc[:, 'Player Name']]\n",
    "df.loc[:, 'Team'] = [x.split()[2] for x in df.loc[:, 'Player Name']]\n",
    "df.loc[:, 'Player Name'] = [\" \".join(x.split()[:2]) for x in df.loc[:, 'Player Name']]"
   ]
  },
  {
   "cell_type": "code",
   "execution_count": 3,
   "metadata": {},
   "outputs": [],
   "source": [
    "requirements = {'C':2,\n",
    "               'LW':2,\n",
    "               'RW':2,\n",
    "               'D':4,\n",
    "               'G':2}"
   ]
  },
  {
   "cell_type": "code",
   "execution_count": 4,
   "metadata": {},
   "outputs": [],
   "source": [
    "NUM_TEAMS = 10"
   ]
  },
  {
   "cell_type": "code",
   "execution_count": 5,
   "metadata": {},
   "outputs": [],
   "source": [
    "counter = 0\n",
    "current_round = 1\n",
    "for index,row in df.iterrows():\n",
    "    counter += 1\n",
    "    df.loc[index, 'Round'] = int(current_round)\n",
    "    if counter%NUM_TEAMS==0:\n",
    "        current_round += 1"
   ]
  },
  {
   "cell_type": "code",
   "execution_count": 6,
   "metadata": {},
   "outputs": [],
   "source": [
    "def most_common(lst):\n",
    "    return max(set(lst), key=lst.count)"
   ]
  },
  {
   "cell_type": "code",
   "execution_count": 7,
   "metadata": {},
   "outputs": [],
   "source": [
    "def custom_count(l, entry):\n",
    "    counter = 0\n",
    "    for i in l:\n",
    "        if entry in i:\n",
    "            counter+=1\n",
    "    return counter"
   ]
  },
  {
   "cell_type": "code",
   "execution_count": 8,
   "metadata": {},
   "outputs": [],
   "source": [
    "data = []\n",
    "for i in np.unique(np.array(df.loc[:, 'Round'])):\n",
    "    position_count = dict()\n",
    "    this_round = i\n",
    "    positions = df.loc[df['Round']==i, 'Position'].tolist()\n",
    "    for j in requirements.keys():\n",
    "        position_count[j] = custom_count(positions, j)\n",
    "    data.append({\n",
    "        'Round':int(i),\n",
    "        **position_count\n",
    "    })\n",
    "rounds = pd.DataFrame(data)\n",
    "rounds.set_index('Round', drop=True, inplace=True)"
   ]
  },
  {
   "cell_type": "code",
   "execution_count": 9,
   "metadata": {},
   "outputs": [
    {
     "name": "stdout",
     "output_type": "stream",
     "text": [
      "C [5, 5, 2, 2, 6, 2, 2, 3, 3, 1, 0, 1, 1, 4, 5, 3, 2, 4, 4, 0]\n",
      "D [0, 1, 2, 1, 0, 4, 2, 2, 4, 3, 8, 4, 3, 4, 2, 3, 3, 3, 2, 3]\n",
      "G [0, 2, 3, 4, 3, 1, 2, 2, 0, 0, 2, 1, 3, 1, 1, 0, 1, 0, 0, 2]\n",
      "LW [2, 2, 3, 1, 1, 2, 3, 4, 2, 5, 0, 2, 3, 1, 3, 2, 1, 1, 1, 2]\n",
      "RW [3, 2, 1, 2, 2, 3, 4, 3, 2, 2, 0, 4, 3, 1, 1, 5, 3, 4, 6, 4]\n"
     ]
    },
    {
     "data": {
      "text/plain": [
       "<matplotlib.legend.Legend at 0x2124dec3908>"
      ]
     },
     "execution_count": 9,
     "metadata": {},
     "output_type": "execute_result"
    },
    {
     "data": {
      "image/png": "[encoded data removed]",
      "text/plain": [
       "<Figure size 432x288 with 1 Axes>"
      ]
     },
     "metadata": {},
     "output_type": "display_data"
    }
   ],
   "source": [
    "N = len(rounds)\n",
    "sum_bottom = np.zeros(N)\n",
    "\n",
    "for i in rounds.columns:\n",
    "    pos = []\n",
    "    for index,row in rounds.iterrows():\n",
    "        pos.append(row[i])\n",
    "    print(i, pos)\n",
    "    ind = np.arange(1,N+1)    # the x locations for the groups\n",
    "    width = 0.35       # the width of the bars: can also be len(x) sequence\n",
    "\n",
    "    plt.bar(ind, pos, bottom=sum_bottom)\n",
    "    \n",
    "    for index,row in rounds.iterrows():\n",
    "        sum_bottom[index-1]=sum_bottom[index-1]+row[i]\n",
    "        \n",
    "plt.legend(rounds.columns)"
   ]
  },
  {
   "cell_type": "code",
   "execution_count": null,
   "metadata": {},
   "outputs": [],
   "source": []
  }
 ],
 "metadata": {
  "kernelspec": {
   "display_name": "Python 3",
   "language": "python",
   "name": "python3"
  },
  "language_info": {
   "codemirror_mode": {
    "name": "ipython",
    "version": 3
   },
   "file_extension": ".py",
   "mimetype": "text/x-python",
   "name": "python",
   "nbconvert_exporter": "python",
   "pygments_lexer": "ipython3",
   "version": "3.6.5"
  }
 },
 "nbformat": 4,
 "nbformat_minor": 2
}
