{
 "cells": [
  {
   "cell_type": "code",
   "execution_count": 1,
   "metadata": {},
   "outputs": [],
   "source": [
    "import pandas as pd\n",
    "import numpy as np\n",
    "import regex as re\n",
    "import matplotlib.pyplot as plt"
   ]
  },
  {
   "cell_type": "code",
   "execution_count": 2,
   "metadata": {},
   "outputs": [],
   "source": [
    "def remove_numbers(x):\n",
    "    x = str(x)\n",
    "    return ''.join([i for i in x if not i.isdigit()])"
   ]
  },
  {
   "cell_type": "code",
   "execution_count": 3,
   "metadata": {},
   "outputs": [],
   "source": [
    "z1 = re.compile('(?<=\\-\\s)(([A-Z]|[,])+)')\n",
    "def get_position(x):\n",
    "    try:\n",
    "        get = z1.findall(x)[0][0]\n",
    "        get = get.split(',')\n",
    "    except:\n",
    "        get = []\n",
    "    return get"
   ]
  },
  {
   "cell_type": "code",
   "execution_count": 4,
   "metadata": {},
   "outputs": [],
   "source": [
    "z2 = re.compile('^\\w+\\s\\w+')\n",
    "def get_name(x):\n",
    "    try:\n",
    "        get = z2.findall(x)[0]\n",
    "    except:\n",
    "        get = ''\n",
    "    return get"
   ]
  },
  {
   "cell_type": "code",
   "execution_count": 5,
   "metadata": {},
   "outputs": [],
   "source": [
    "z3 = re.compile('(?<=\\()[\\w]+')\n",
    "def get_team(x):\n",
    "    try:\n",
    "        get = z3.findall(x)[0]\n",
    "    except:\n",
    "        get = ''\n",
    "    return get"
   ]
  },
  {
   "cell_type": "code",
   "execution_count": 6,
   "metadata": {},
   "outputs": [],
   "source": [
    "def most_common(lst):\n",
    "    return max(set(lst), key=lst.count)"
   ]
  },
  {
   "cell_type": "code",
   "execution_count": 7,
   "metadata": {},
   "outputs": [],
   "source": [
    "def custom_count(l, entry):\n",
    "    counter = 0\n",
    "    for i in l:\n",
    "        if entry in i:\n",
    "            counter+=1\n",
    "    return counter"
   ]
  },
  {
   "cell_type": "code",
   "execution_count": 8,
   "metadata": {},
   "outputs": [],
   "source": [
    "requirements = {'C':2,\n",
    "                'LW':2,\n",
    "                'RW':2,\n",
    "                'D':4,\n",
    "                'G':2}"
   ]
  },
  {
   "cell_type": "code",
   "execution_count": 9,
   "metadata": {},
   "outputs": [
    {
     "data": {
      "text/html": [
       "<div>\n",
       "<style scoped>\n",
       "    .dataframe tbody tr th:only-of-type {\n",
       "        vertical-align: middle;\n",
       "    }\n",
       "\n",
       "    .dataframe tbody tr th {\n",
       "        vertical-align: top;\n",
       "    }\n",
       "\n",
       "    .dataframe thead th {\n",
       "        text-align: right;\n",
       "    }\n",
       "</style>\n",
       "<table border=\"1\" class=\"dataframe\">\n",
       "  <thead>\n",
       "    <tr style=\"text-align: right;\">\n",
       "      <th></th>\n",
       "      <th>Player Name</th>\n",
       "      <th>Position</th>\n",
       "      <th>Team</th>\n",
       "      <th>Round</th>\n",
       "    </tr>\n",
       "  </thead>\n",
       "  <tbody>\n",
       "    <tr>\n",
       "      <th>0</th>\n",
       "      <td>Nikita Kucherov</td>\n",
       "      <td>[RW]</td>\n",
       "      <td>TB</td>\n",
       "      <td>1.0</td>\n",
       "    </tr>\n",
       "    <tr>\n",
       "      <th>1</th>\n",
       "      <td>Alex Ovechkin</td>\n",
       "      <td>[LW, F]</td>\n",
       "      <td>WSH</td>\n",
       "      <td>1.0</td>\n",
       "    </tr>\n",
       "    <tr>\n",
       "      <th>2</th>\n",
       "      <td>Connor McDavid</td>\n",
       "      <td>[C, F]</td>\n",
       "      <td>EDM</td>\n",
       "      <td>1.0</td>\n",
       "    </tr>\n",
       "    <tr>\n",
       "      <th>3</th>\n",
       "      <td>Nathan MacKinnon</td>\n",
       "      <td>[C, RW, F]</td>\n",
       "      <td>COL</td>\n",
       "      <td>1.0</td>\n",
       "    </tr>\n",
       "    <tr>\n",
       "      <th>4</th>\n",
       "      <td>Sidney Crosby</td>\n",
       "      <td>[C, F]</td>\n",
       "      <td>PIT</td>\n",
       "      <td>1.0</td>\n",
       "    </tr>\n",
       "  </tbody>\n",
       "</table>\n",
       "</div>"
      ],
      "text/plain": [
       "        Player Name    Position Team  Round\n",
       "0   Nikita Kucherov        [RW]   TB    1.0\n",
       "1     Alex Ovechkin     [LW, F]  WSH    1.0\n",
       "2    Connor McDavid      [C, F]  EDM    1.0\n",
       "3  Nathan MacKinnon  [C, RW, F]  COL    1.0\n",
       "4     Sidney Crosby      [C, F]  PIT    1.0"
      ]
     },
     "execution_count": 9,
     "metadata": {},
     "output_type": "execute_result"
    }
   ],
   "source": [
    "df = pd.read_excel(r\"C:\\Users\\olive\\Documents\\GitHub\\Fantasy-Hockey\\Raw Data 2019.xlsx\", header=None, names=['Player Name'])\n",
    "df['Player Name'] = df.apply(lambda row: remove_numbers(row['Player Name']), axis=1)\n",
    "df['Position'] = df.apply(lambda row: get_position(row['Player Name']), axis=1)\n",
    "df['Team'] = df.apply(lambda row: get_team(row['Player Name']), axis=1)\n",
    "df['Player Name'] = df.apply(lambda row: get_name(row['Player Name']), axis=1)\n",
    "\n",
    "NUM_TEAMS = 14\n",
    "counter = 0\n",
    "current_round = 1\n",
    "for index,row in df.iterrows():\n",
    "    counter += 1\n",
    "    df.loc[index, 'Round'] = int(current_round)\n",
    "    if counter%NUM_TEAMS==0:\n",
    "        current_round += 1\n",
    "        \n",
    "df.head()"
   ]
  },
  {
   "cell_type": "code",
   "execution_count": 10,
   "metadata": {},
   "outputs": [],
   "source": [
    "data = []\n",
    "for i in np.unique(np.array(df.loc[:, 'Round'])):\n",
    "    position_count = dict()\n",
    "    this_round = i\n",
    "    positions = df.loc[df['Round']==i, 'Position'].tolist()\n",
    "    for j in requirements.keys():\n",
    "        position_count[j] = custom_count(positions, j)\n",
    "    data.append({\n",
    "        'Round':int(i),\n",
    "        **position_count\n",
    "    })\n",
    "rounds = pd.DataFrame(data)\n",
    "rounds.set_index('Round', drop=True, inplace=True)"
   ]
  },
  {
   "cell_type": "code",
   "execution_count": 11,
   "metadata": {},
   "outputs": [
    {
     "data": {
      "text/html": [
       "<div>\n",
       "<style scoped>\n",
       "    .dataframe tbody tr th:only-of-type {\n",
       "        vertical-align: middle;\n",
       "    }\n",
       "\n",
       "    .dataframe tbody tr th {\n",
       "        vertical-align: top;\n",
       "    }\n",
       "\n",
       "    .dataframe thead th {\n",
       "        text-align: right;\n",
       "    }\n",
       "</style>\n",
       "<table border=\"1\" class=\"dataframe\">\n",
       "  <thead>\n",
       "    <tr style=\"text-align: right;\">\n",
       "      <th></th>\n",
       "      <th>C</th>\n",
       "      <th>D</th>\n",
       "      <th>G</th>\n",
       "      <th>LW</th>\n",
       "      <th>RW</th>\n",
       "    </tr>\n",
       "    <tr>\n",
       "      <th>Round</th>\n",
       "      <th></th>\n",
       "      <th></th>\n",
       "      <th></th>\n",
       "      <th></th>\n",
       "      <th></th>\n",
       "    </tr>\n",
       "  </thead>\n",
       "  <tbody>\n",
       "    <tr>\n",
       "      <th>1</th>\n",
       "      <td>7</td>\n",
       "      <td>1</td>\n",
       "      <td>0</td>\n",
       "      <td>3</td>\n",
       "      <td>4</td>\n",
       "    </tr>\n",
       "    <tr>\n",
       "      <th>2</th>\n",
       "      <td>5</td>\n",
       "      <td>1</td>\n",
       "      <td>4</td>\n",
       "      <td>2</td>\n",
       "      <td>4</td>\n",
       "    </tr>\n",
       "    <tr>\n",
       "      <th>3</th>\n",
       "      <td>5</td>\n",
       "      <td>1</td>\n",
       "      <td>3</td>\n",
       "      <td>2</td>\n",
       "      <td>3</td>\n",
       "    </tr>\n",
       "    <tr>\n",
       "      <th>4</th>\n",
       "      <td>6</td>\n",
       "      <td>4</td>\n",
       "      <td>2</td>\n",
       "      <td>2</td>\n",
       "      <td>1</td>\n",
       "    </tr>\n",
       "    <tr>\n",
       "      <th>5</th>\n",
       "      <td>5</td>\n",
       "      <td>3</td>\n",
       "      <td>3</td>\n",
       "      <td>3</td>\n",
       "      <td>1</td>\n",
       "    </tr>\n",
       "  </tbody>\n",
       "</table>\n",
       "</div>"
      ],
      "text/plain": [
       "       C  D  G  LW  RW\n",
       "Round                 \n",
       "1      7  1  0   3   4\n",
       "2      5  1  4   2   4\n",
       "3      5  1  3   2   3\n",
       "4      6  4  2   2   1\n",
       "5      5  3  3   3   1"
      ]
     },
     "execution_count": 11,
     "metadata": {},
     "output_type": "execute_result"
    }
   ],
   "source": [
    "rounds.head()"
   ]
  },
  {
   "cell_type": "code",
   "execution_count": 16,
   "metadata": {
    "scrolled": false
   },
   "outputs": [
    {
     "name": "stdout",
     "output_type": "stream",
     "text": [
      "C [7, 5, 5, 6, 5, 2, 4, 3, 4, 3, 4, 5, 2, 5, 3, 3, 2, 0, 5, 8, 2, 9, 3, 1, 4, 4, 4, 4, 6, 1]\n",
      "D [1, 1, 1, 4, 3, 4, 2, 5, 4, 3, 6, 4, 4, 3, 3, 1, 5, 1, 7, 1, 4, 2, 3, 6, 4, 7, 3, 4, 1, 0]\n",
      "G [0, 4, 3, 2, 3, 1, 1, 1, 1, 3, 1, 3, 3, 1, 1, 2, 1, 2, 2, 1, 0, 1, 4, 2, 1, 1, 1, 1, 3, 0]\n",
      "LW [3, 2, 2, 2, 3, 3, 4, 4, 4, 1, 2, 1, 3, 3, 8, 6, 6, 7, 1, 5, 3, 1, 2, 4, 2, 1, 5, 3, 2, 0]\n",
      "RW [4, 4, 3, 1, 1, 5, 6, 4, 2, 3, 1, 2, 3, 4, 2, 5, 3, 5, 0, 2, 6, 1, 3, 1, 3, 2, 3, 2, 3, 0]\n"
     ]
    },
    {
     "data": {
      "text/plain": [
       "<matplotlib.legend.Legend at 0x1dce7bc5c18>"
      ]
     },
     "execution_count": 16,
     "metadata": {},
     "output_type": "execute_result"
    },
    {
     "data": {
      "image/png": "[encoded data removed]",
      "text/plain": [
       "<Figure size 432x288 with 1 Axes>"
      ]
     },
     "metadata": {},
     "output_type": "display_data"
    }
   ],
   "source": [
    "N = len(rounds)\n",
    "sum_bottom = np.zeros(N)\n",
    "\n",
    "for i in rounds.columns:\n",
    "    pos = []\n",
    "    for index,row in rounds.iterrows():\n",
    "        pos.append(row[i])\n",
    "    print(i, pos)\n",
    "    ind = np.arange(1,N+1)    # the x locations for the groups\n",
    "    width = 0.35       # the width of the bars: can also be len(x) sequence\n",
    "\n",
    "    plt.bar(ind, pos, bottom=sum_bottom)\n",
    "    \n",
    "    for index,row in rounds.iterrows():\n",
    "        sum_bottom[index-1]=sum_bottom[index-1]+row[i]\n",
    "        \n",
    "plt.legend(rounds.columns)"
   ]
  },
  {
   "cell_type": "code",
   "execution_count": 13,
   "metadata": {},
   "outputs": [],
   "source": [
    "l = []\n",
    "l.append('C')\n",
    "l.append('G')\n",
    "l.append('G')\n",
    "l.append('D')\n",
    "l.append('D')\n",
    "l.append('LW')\n",
    "l.append('RW')\n",
    "l.append('D')\n",
    "l.append('D')\n",
    "l.append('C')\n",
    "l.append('RW')\n",
    "l.append('LW')"
   ]
  },
  {
   "cell_type": "code",
   "execution_count": 14,
   "metadata": {},
   "outputs": [
    {
     "data": {
      "text/plain": [
       "['C', 'G', 'G', 'D', 'D', 'RW', 'RW', 'D', 'D', 'C', 'LW', 'LW']"
      ]
     },
     "execution_count": 14,
     "metadata": {},
     "output_type": "execute_result"
    }
   ],
   "source": [
    "l"
   ]
  },
  {
   "cell_type": "code",
   "execution_count": null,
   "metadata": {},
   "outputs": [],
   "source": []
  }
 ],
 "metadata": {
  "kernelspec": {
   "display_name": "Python 3",
   "language": "python",
   "name": "python3"
  },
  "language_info": {
   "codemirror_mode": {
    "name": "ipython",
    "version": 3
   },
   "file_extension": ".py",
   "mimetype": "text/x-python",
   "name": "python",
   "nbconvert_exporter": "python",
   "pygments_lexer": "ipython3",
   "version": "3.6.5"
  }
 },
 "nbformat": 4,
 "nbformat_minor": 2
}
